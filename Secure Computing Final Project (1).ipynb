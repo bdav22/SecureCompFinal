{
 "cells": [
  {
   "cell_type": "code",
   "execution_count": 30,
   "id": "7503f238",
   "metadata": {},
   "outputs": [
    {
     "name": "stdout",
     "output_type": "stream",
     "text": [
      "Requirement already satisfied: pycryptodome in ./opt/anaconda3/lib/python3.9/site-packages (3.17)\r\n"
     ]
    }
   ],
   "source": [
    "!pip install pycryptodome\n"
   ]
  },
  {
   "cell_type": "code",
   "execution_count": 31,
   "id": "caebba16",
   "metadata": {},
   "outputs": [
    {
     "name": "stdout",
     "output_type": "stream",
     "text": [
      "Plaintext: \n",
      "b'This is a test message\\n\\n\\n\\n\\n\\n\\n\\n\\n\\n'\n",
      "Ciphertext: \n",
      "b'rJ{\\x07y\\xf7\\x87\\xc8\\x1dm\\x1e\\x06\\xf7\\xfb\\x17>\\xc0\\x9a0\"\\n\\xcc}\\xf1\\x82zAf\\x16\\xf4#\\x1a'\n"
     ]
    }
   ],
   "source": [
    "#import libraries\n",
    "from Crypto.Cipher import AES\n",
    "from Crypto.Util.Padding import pad\n",
    "\n",
    "#creating the key and plaintext\n",
    "key = b'topsecretkey1234'\n",
    "plaintext = b'This is a test message'\n",
    "\n",
    "\n",
    "#pad plaintext to be a multiple of 16 bytes (AES block size)\n",
    "plaintext = pad(plaintext, AES.block_size)\n",
    "\n",
    "#create AES cipher object\n",
    "cipher = AES.new(key, AES.MODE_CTR)\n",
    "\n",
    "# Encrypt the plaintext\n",
    "ciphertext = cipher.encrypt(plaintext)\n",
    "\n",
    "#print the result\n",
    "print(\"Plaintext: \")\n",
    "print(plaintext)\n",
    "print(\"Ciphertext: \")\n",
    "print(ciphertext)\n"
   ]
  },
  {
   "cell_type": "code",
   "execution_count": null,
   "id": "a45ac509",
   "metadata": {},
   "outputs": [],
   "source": []
  },
  {
   "cell_type": "code",
   "execution_count": null,
   "id": "9b06a71e",
   "metadata": {},
   "outputs": [],
   "source": []
  },
  {
   "cell_type": "code",
   "execution_count": null,
   "id": "7fb48e2a",
   "metadata": {},
   "outputs": [],
   "source": []
  }
 ],
 "metadata": {
  "kernelspec": {
   "display_name": "Python 3 (ipykernel)",
   "language": "python",
   "name": "python3"
  },
  "language_info": {
   "codemirror_mode": {
    "name": "ipython",
    "version": 3
   },
   "file_extension": ".py",
   "mimetype": "text/x-python",
   "name": "python",
   "nbconvert_exporter": "python",
   "pygments_lexer": "ipython3",
   "version": "3.9.12"
  }
 },
 "nbformat": 4,
 "nbformat_minor": 5
}
